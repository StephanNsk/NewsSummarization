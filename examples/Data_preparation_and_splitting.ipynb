{
 "cells": [
  {
   "cell_type": "code",
   "execution_count": 1,
   "metadata": {
    "id": "oIfZdOjmSzJy"
   },
   "outputs": [],
   "source": [
    "import os\n",
    "import gc\n",
    "import re\n",
    "import gzip\n",
    "import pandas as pd\n",
    "\n",
    "from sklearn.model_selection import train_test_split"
   ]
  },
  {
   "cell_type": "code",
   "execution_count": 2,
   "metadata": {
    "id": "5zoSzWYQSzKB"
   },
   "outputs": [],
   "source": [
    "data_dir = '../data/'"
   ]
  },
  {
   "cell_type": "code",
   "execution_count": 3,
   "metadata": {
    "colab": {
     "base_uri": "https://localhost:8080/"
    },
    "id": "-sXASp4kSzKC",
    "outputId": "b2332335-4917-4c3d-c71c-13655d4c9326"
   },
   "outputs": [
    {
     "name": "stdout",
     "output_type": "stream",
     "text": [
      "--2021-03-22 05:02:11--  https://github.com/RossiyaSegodnya/ria_news_dataset/raw/master/ria.json.gz\n",
      "Resolving github.com (github.com)... 140.82.121.4\n",
      "Connecting to github.com (github.com)|140.82.121.4|:443... connected.\n",
      "HTTP request sent, awaiting response... 302 Found\n",
      "Location: https://media.githubusercontent.com/media/RossiyaSegodnya/ria_news_dataset/master/ria.json.gz [following]\n",
      "--2021-03-22 05:02:12--  https://media.githubusercontent.com/media/RossiyaSegodnya/ria_news_dataset/master/ria.json.gz\n",
      "Resolving media.githubusercontent.com (media.githubusercontent.com)... 185.199.108.133, 185.199.109.133, 185.199.110.133, ...\n",
      "Connecting to media.githubusercontent.com (media.githubusercontent.com)|185.199.108.133|:443... connected.\n",
      "HTTP request sent, awaiting response... 200 OK\n",
      "Length: 1025015063 (978M) [application/octet-stream]\n",
      "Saving to: ‘../data/ria.json.gz’\n",
      "\n",
      "ria.json.gz         100%[===================>] 977.53M   294MB/s    in 3.4s    \n",
      "\n",
      "2021-03-22 05:02:43 (285 MB/s) - ‘../data/ria.json.gz’ saved [1025015063/1025015063]\n",
      "\n"
     ]
    }
   ],
   "source": [
    "!wget -P '../data/' https://github.com/RossiyaSegodnya/ria_news_dataset/raw/master/ria.json.gz "
   ]
  },
  {
   "cell_type": "code",
   "execution_count": 4,
   "metadata": {
    "id": "IK721PZMSzKD"
   },
   "outputs": [],
   "source": [
    "data = pd.read_json(gzip.open(os.path.join(data_dir, 'ria.json.gz')), lines=True)"
   ]
  },
  {
   "cell_type": "code",
   "execution_count": 5,
   "metadata": {
    "colab": {
     "base_uri": "https://localhost:8080/",
     "height": 204
    },
    "id": "kkViIsa5SzKD",
    "outputId": "84ecc0c3-c432-47b9-9459-568d860ce3a7"
   },
   "outputs": [
    {
     "data": {
      "text/html": [
       "<div>\n",
       "<style scoped>\n",
       "    .dataframe tbody tr th:only-of-type {\n",
       "        vertical-align: middle;\n",
       "    }\n",
       "\n",
       "    .dataframe tbody tr th {\n",
       "        vertical-align: top;\n",
       "    }\n",
       "\n",
       "    .dataframe thead th {\n",
       "        text-align: right;\n",
       "    }\n",
       "</style>\n",
       "<table border=\"1\" class=\"dataframe\">\n",
       "  <thead>\n",
       "    <tr style=\"text-align: right;\">\n",
       "      <th></th>\n",
       "      <th>text</th>\n",
       "      <th>title</th>\n",
       "    </tr>\n",
       "  </thead>\n",
       "  <tbody>\n",
       "    <tr>\n",
       "      <th>0</th>\n",
       "      <td>&lt;p&gt;&lt;strong&gt;&lt;/strong&gt;&lt;/p&gt;\\n&lt;p&gt;&lt;strong&gt;москва, 3...</td>\n",
       "      <td>большинство детей, которых пытались увезти в с...</td>\n",
       "    </tr>\n",
       "    <tr>\n",
       "      <th>1</th>\n",
       "      <td>&lt;p&gt;&lt;strong&gt;&lt;/strong&gt;&lt;/p&gt;\\n&lt;p&gt;&lt;strong&gt;киев, 31 ...</td>\n",
       "      <td>луценко будет работать в команде тимошенко, ес...</td>\n",
       "    </tr>\n",
       "    <tr>\n",
       "      <th>2</th>\n",
       "      <td>&lt;p&gt;&lt;strong&gt;&lt;/strong&gt;&lt;/p&gt;\\n&lt;p&gt;&lt;strong&gt;киев, 31 ...</td>\n",
       "      <td>\"лютые\" выборы: есть ли вероятность второго ма...</td>\n",
       "    </tr>\n",
       "    <tr>\n",
       "      <th>3</th>\n",
       "      <td>&lt;p&gt;&lt;strong&gt;&lt;/strong&gt;&lt;/p&gt;\\n&lt;p&gt;&lt;strong&gt;мехико, 3...</td>\n",
       "      <td>жертвами бойни на севере мексики стали 13 моло...</td>\n",
       "    </tr>\n",
       "    <tr>\n",
       "      <th>4</th>\n",
       "      <td>&lt;p&gt;&lt;strong&gt;&lt;/strong&gt;&lt;/p&gt;\\n&lt;p&gt;&lt;strong&gt;москва, 3...</td>\n",
       "      <td>немец беррер выиграл теннисный турнир на родин...</td>\n",
       "    </tr>\n",
       "  </tbody>\n",
       "</table>\n",
       "</div>"
      ],
      "text/plain": [
       "                                                text                                              title\n",
       "0  <p><strong></strong></p>\\n<p><strong>москва, 3...  большинство детей, которых пытались увезти в с...\n",
       "1  <p><strong></strong></p>\\n<p><strong>киев, 31 ...  луценко будет работать в команде тимошенко, ес...\n",
       "2  <p><strong></strong></p>\\n<p><strong>киев, 31 ...  \"лютые\" выборы: есть ли вероятность второго ма...\n",
       "3  <p><strong></strong></p>\\n<p><strong>мехико, 3...  жертвами бойни на севере мексики стали 13 моло...\n",
       "4  <p><strong></strong></p>\\n<p><strong>москва, 3...  немец беррер выиграл теннисный турнир на родин..."
      ]
     },
     "execution_count": 5,
     "metadata": {
      "tags": []
     },
     "output_type": "execute_result"
    }
   ],
   "source": [
    "data.head()"
   ]
  },
  {
   "cell_type": "markdown",
   "metadata": {
    "id": "H6fT01T_SzKE"
   },
   "source": [
    "- Уберем из заголовков и текстов символы табуляции и новой строки  \n",
    "- Очистим текчты от html-тегов и прочего мусора\n",
    "- В виду специфики задачи, нам достаточно только лишь начала текста для генерации заголовка, поэтому для экономии всевозможных ресурсов, будем брать только первые 1000 символов из текстов"
   ]
  },
  {
   "cell_type": "code",
   "execution_count": 6,
   "metadata": {
    "id": "vH9y7u0xSzKE"
   },
   "outputs": [],
   "source": [
    "data['text'] = data['text'].apply(lambda x: re.sub(r'(<.*?>)', '', x.replace('\\n', ' ').replace('\\t', ' ').replace('\\r', ' ')))\n",
    "data['text'] = data['text'].apply(lambda x: re.sub(r'(&.*?;)', '', x).strip()[:1000])\n",
    "data['title'] = data['title'].apply(lambda x: x.replace('\\n', ' ').replace('\\t', ' ').replace('\\r', ' '))"
   ]
  },
  {
   "cell_type": "markdown",
   "metadata": {
    "id": "w3wEKHl3SzKF"
   },
   "source": [
    "- Уберем сэмплы с пустыми строками"
   ]
  },
  {
   "cell_type": "code",
   "execution_count": 7,
   "metadata": {
    "id": "rT5QneW4SzKF"
   },
   "outputs": [],
   "source": [
    "data = data[(data.text != '') & (data.title != '')]"
   ]
  },
  {
   "cell_type": "markdown",
   "metadata": {
    "id": "ouhpEma3SzKG"
   },
   "source": [
    "- Из-за недостатка мощностей, возьмем только лишь ~2/3 датасета для обучения"
   ]
  },
  {
   "cell_type": "code",
   "execution_count": 8,
   "metadata": {
    "id": "4TqovEpnSzKG"
   },
   "outputs": [],
   "source": [
    "data = data.sample(615000, random_state=10)"
   ]
  },
  {
   "cell_type": "markdown",
   "metadata": {
    "id": "pvPmOEjkSzKH"
   },
   "source": [
    "Разделим данные на train, val, test:\n",
    " - train 600k сэмплов\n",
    " - val 5k сэмплов\n",
    " - test 10k сэмплов"
   ]
  },
  {
   "cell_type": "code",
   "execution_count": 9,
   "metadata": {
    "id": "tb-29StqSzKH"
   },
   "outputs": [],
   "source": [
    "train, test = train_test_split(data, test_size=10000, random_state=10)\n",
    "train, val = train_test_split(train, test_size=5000, random_state=10)"
   ]
  },
  {
   "cell_type": "code",
   "execution_count": 10,
   "metadata": {
    "id": "0n1REsgwSzKH"
   },
   "outputs": [],
   "source": [
    "for dataset in [train, val, test]:\n",
    "    dataset.reset_index(drop=True, inplace=True)"
   ]
  },
  {
   "cell_type": "code",
   "execution_count": 11,
   "metadata": {
    "colab": {
     "base_uri": "https://localhost:8080/",
     "height": 204
    },
    "id": "o3H2Umb9SzKI",
    "outputId": "8020e4ba-0c06-4a35-b94d-89260eb45f6c"
   },
   "outputs": [
    {
     "data": {
      "text/html": [
       "<div>\n",
       "<style scoped>\n",
       "    .dataframe tbody tr th:only-of-type {\n",
       "        vertical-align: middle;\n",
       "    }\n",
       "\n",
       "    .dataframe tbody tr th {\n",
       "        vertical-align: top;\n",
       "    }\n",
       "\n",
       "    .dataframe thead th {\n",
       "        text-align: right;\n",
       "    }\n",
       "</style>\n",
       "<table border=\"1\" class=\"dataframe\">\n",
       "  <thead>\n",
       "    <tr style=\"text-align: right;\">\n",
       "      <th></th>\n",
       "      <th>text</th>\n",
       "      <th>title</th>\n",
       "    </tr>\n",
       "  </thead>\n",
       "  <tbody>\n",
       "    <tr>\n",
       "      <th>0</th>\n",
       "      <td>сочи, 19 сен риа новости. втб невидит другого ...</td>\n",
       "      <td>втб собрался судиться с \"мечелом\"</td>\n",
       "    </tr>\n",
       "    <tr>\n",
       "      <th>1</th>\n",
       "      <td>владивосток, 11 авг - риа новости. инаугурация...</td>\n",
       "      <td>губернатор сахалинской области официально всту...</td>\n",
       "    </tr>\n",
       "    <tr>\n",
       "      <th>2</th>\n",
       "      <td>каир, 13 авг - риа новости, маргарита кислова....</td>\n",
       "      <td>профессия муэдзинов, призывающих к молитве, мо...</td>\n",
       "    </tr>\n",
       "    <tr>\n",
       "      <th>3</th>\n",
       "      <td>владивосток, 24 янв риа новости. сотрудники ги...</td>\n",
       "      <td>облава на пьяных водителей пройдет в приморье ...</td>\n",
       "    </tr>\n",
       "    <tr>\n",
       "      <th>4</th>\n",
       "      <td>сын ливийского лидера саиф аль-ислам каддафи о...</td>\n",
       "      <td>сын муамара каддафи пригласил москвичей в \"пус...</td>\n",
       "    </tr>\n",
       "  </tbody>\n",
       "</table>\n",
       "</div>"
      ],
      "text/plain": [
       "                                                text                                              title\n",
       "0  сочи, 19 сен риа новости. втб невидит другого ...                  втб собрался судиться с \"мечелом\"\n",
       "1  владивосток, 11 авг - риа новости. инаугурация...  губернатор сахалинской области официально всту...\n",
       "2  каир, 13 авг - риа новости, маргарита кислова....  профессия муэдзинов, призывающих к молитве, мо...\n",
       "3  владивосток, 24 янв риа новости. сотрудники ги...  облава на пьяных водителей пройдет в приморье ...\n",
       "4  сын ливийского лидера саиф аль-ислам каддафи о...  сын муамара каддафи пригласил москвичей в \"пус..."
      ]
     },
     "execution_count": 11,
     "metadata": {
      "tags": []
     },
     "output_type": "execute_result"
    }
   ],
   "source": [
    "train.head()"
   ]
  },
  {
   "cell_type": "code",
   "execution_count": 12,
   "metadata": {
    "id": "WFPKNfk8SzKI"
   },
   "outputs": [],
   "source": [
    "train.to_csv(os.path.join(data_dir, 'train.csv'), index=None, sep='\\t')\n",
    "val.to_csv(os.path.join(data_dir, 'val.csv'), index=None, sep='\\t')\n",
    "test.to_csv(os.path.join(data_dir, 'test.csv'), index=None, sep='\\t')"
   ]
  },
  {
   "cell_type": "code",
   "execution_count": null,
   "metadata": {
    "id": "U2docP4KUuam"
   },
   "outputs": [],
   "source": []
  }
 ],
 "metadata": {
  "colab": {
   "collapsed_sections": [],
   "machine_shape": "hm",
   "name": "Data_preparation_and_splitting.ipynb",
   "provenance": []
  },
  "kernelspec": {
   "display_name": "summarization",
   "language": "python",
   "name": "summarization"
  },
  "language_info": {
   "codemirror_mode": {
    "name": "ipython",
    "version": 3
   },
   "file_extension": ".py",
   "mimetype": "text/x-python",
   "name": "python",
   "nbconvert_exporter": "python",
   "pygments_lexer": "ipython3",
   "version": "3.7.10"
  }
 },
 "nbformat": 4,
 "nbformat_minor": 1
}

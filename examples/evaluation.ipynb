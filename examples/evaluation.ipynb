{
 "cells": [
  {
   "cell_type": "code",
   "execution_count": 1,
   "metadata": {
    "id": "GO61PfImOUfc"
   },
   "outputs": [],
   "source": [
    "%cd ../\n",
    "import pandas as pd\n",
    "from ria_summarizer import Summarizer"
   ]
  },
  {
   "cell_type": "code",
   "execution_count": 2,
   "metadata": {
    "id": "tIQuSOz4OGK6"
   },
   "outputs": [],
   "source": [
    "model = Summarizer(model_path='/content/mbart-large-50-ria', device='cuda')"
   ]
  },
  {
   "cell_type": "code",
   "execution_count": 3,
   "metadata": {
    "id": "4Yd5kBE0OPdh"
   },
   "outputs": [],
   "source": [
    "test = pd.read_csv('/content/drive/MyDrive/summary_dataset/test.csv', sep='\\t')"
   ]
  },
  {
   "cell_type": "code",
   "execution_count": 4,
   "metadata": {
    "colab": {
     "base_uri": "https://localhost:8080/",
     "height": 204
    },
    "id": "bJUwrcuXOofU",
    "outputId": "731c9248-815e-4e08-a6d3-1f95cd1bf137"
   },
   "outputs": [
    {
     "data": {
      "text/html": [
       "<div>\n",
       "<style scoped>\n",
       "    .dataframe tbody tr th:only-of-type {\n",
       "        vertical-align: middle;\n",
       "    }\n",
       "\n",
       "    .dataframe tbody tr th {\n",
       "        vertical-align: top;\n",
       "    }\n",
       "\n",
       "    .dataframe thead th {\n",
       "        text-align: right;\n",
       "    }\n",
       "</style>\n",
       "<table border=\"1\" class=\"dataframe\">\n",
       "  <thead>\n",
       "    <tr style=\"text-align: right;\">\n",
       "      <th></th>\n",
       "      <th>text</th>\n",
       "      <th>title</th>\n",
       "    </tr>\n",
       "  </thead>\n",
       "  <tbody>\n",
       "    <tr>\n",
       "      <th>0</th>\n",
       "      <td>баку, 13 сен - риа новости. президент румынии ...</td>\n",
       "      <td>президент румынии примет участие в энергетичес...</td>\n",
       "    </tr>\n",
       "    <tr>\n",
       "      <th>1</th>\n",
       "      <td>москва, 8 окт - риа новости, артем захаров. уч...</td>\n",
       "      <td>хакеры выпустят инструмент для взлома iphone 4...</td>\n",
       "    </tr>\n",
       "    <tr>\n",
       "      <th>2</th>\n",
       "      <td>томск, 3 сен риа новости, карина сапунова. раз...</td>\n",
       "      <td>медтехника и соки стали первыми томскими иннов...</td>\n",
       "    </tr>\n",
       "    <tr>\n",
       "      <th>3</th>\n",
       "      <td>москва, 25 дек прайм, дмитрий майоров. курс ру...</td>\n",
       "      <td>рубль корректируется вниз после двух дней роста</td>\n",
       "    </tr>\n",
       "    <tr>\n",
       "      <th>4</th>\n",
       "      <td>москва, 16 октября - риа новости. власти москв...</td>\n",
       "      <td>власти москвы могут изменить стоимость патенто...</td>\n",
       "    </tr>\n",
       "  </tbody>\n",
       "</table>\n",
       "</div>"
      ],
      "text/plain": [
       "                                                text                                              title\n",
       "0  баку, 13 сен - риа новости. президент румынии ...  президент румынии примет участие в энергетичес...\n",
       "1  москва, 8 окт - риа новости, артем захаров. уч...  хакеры выпустят инструмент для взлома iphone 4...\n",
       "2  томск, 3 сен риа новости, карина сапунова. раз...  медтехника и соки стали первыми томскими иннов...\n",
       "3  москва, 25 дек прайм, дмитрий майоров. курс ру...    рубль корректируется вниз после двух дней роста\n",
       "4  москва, 16 октября - риа новости. власти москв...  власти москвы могут изменить стоимость патенто..."
      ]
     },
     "execution_count": 4,
     "metadata": {
      "tags": []
     },
     "output_type": "execute_result"
    }
   ],
   "source": [
    "test.head()"
   ]
  },
  {
   "cell_type": "code",
   "execution_count": 5,
   "metadata": {
    "id": "rZTOEWkjOyh4"
   },
   "outputs": [],
   "source": [
    "texts, labels = test.text.to_list(), test.title.to_list()"
   ]
  },
  {
   "cell_type": "code",
   "execution_count": 6,
   "metadata": {
    "colab": {
     "base_uri": "https://localhost:8080/"
    },
    "id": "XAkxD0oSO_dd",
    "outputId": "3a759813-6f11-443c-8d1f-63f18d09b9d4"
   },
   "outputs": [
    {
     "name": "stderr",
     "output_type": "stream",
     "text": [
      "100%|██████████| 10000/10000 [1:00:50<00:00,  2.74it/s]\n"
     ]
    }
   ],
   "source": [
    "metrics = model.evaluate(texts, labels)"
   ]
  },
  {
   "cell_type": "code",
   "execution_count": 7,
   "metadata": {
    "colab": {
     "base_uri": "https://localhost:8080/"
    },
    "id": "JC-UIEJrWKgp",
    "outputId": "c4aeaa34-a60e-463b-f445-4c86d1608393"
   },
   "outputs": [
    {
     "data": {
      "text/plain": [
       "{'rouge_1_f': 0.437177893602751,\n",
       " 'rouge_2_f': 0.2603504442615952,\n",
       " 'rouge_l_f': 0.4172695992792212,\n",
       " 'score': 0.37159931238118915}"
      ]
     },
     "execution_count": 7,
     "metadata": {
      "tags": []
     },
     "output_type": "execute_result"
    }
   ],
   "source": [
    "metrics"
   ]
  },
  {
   "cell_type": "code",
   "execution_count": null,
   "metadata": {
    "id": "wasPuenKYeCN"
   },
   "outputs": [],
   "source": []
  }
 ],
 "metadata": {
  "accelerator": "GPU",
  "colab": {
   "collapsed_sections": [],
   "name": "Evaluation.ipynb",
   "provenance": []
  },
  "kernelspec": {
   "display_name": "Python 3",
   "language": "python",
   "name": "python3"
  },
  "language_info": {
   "codemirror_mode": {
    "name": "ipython",
    "version": 3
   },
   "file_extension": ".py",
   "mimetype": "text/x-python",
   "name": "python",
   "nbconvert_exporter": "python",
   "pygments_lexer": "ipython3",
   "version": "3.8.5"
  }
 },
 "nbformat": 4,
 "nbformat_minor": 1
}
